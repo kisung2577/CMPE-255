{
  "nbformat": 4,
  "nbformat_minor": 0,
  "metadata": {
    "colab": {
      "provenance": [],
      "include_colab_link": true
    },
    "kernelspec": {
      "name": "python3",
      "display_name": "Python 3"
    },
    "language_info": {
      "name": "python"
    }
  },
  "cells": [
    {
      "cell_type": "markdown",
      "metadata": {
        "id": "view-in-github",
        "colab_type": "text"
      },
      "source": [
        "<a href=\"https://colab.research.google.com/github/kisung2577/CMPE-255/blob/main/Assignment_5_for_nearest_neighbor_algorithms.ipynb\" target=\"_parent\"><img src=\"https://colab.research.google.com/assets/colab-badge.svg\" alt=\"Open In Colab\"/></a>"
      ]
    },
    {
      "cell_type": "markdown",
      "metadata": {
        "id": "tX2K9wSJGHQl"
      },
      "source": [
        "\n",
        "#Using state of art libraries for Approximate nearest neighbor search\n",
        "\n",
        "\n"
      ]
    },
    {
      "cell_type": "markdown",
      "metadata": {
        "id": "J9hnB-RKGS08"
      },
      "source": [
        "##INSTALLING NECESSARY LIBRARIES"
      ]
    },
    {
      "cell_type": "code",
      "metadata": {
        "colab": {
          "base_uri": "https://localhost:8080/"
        },
        "id": "oMKReG-N8oBP",
        "outputId": "7b924a20-abc7-49c2-c984-a72fda1b8454"
      },
      "source": [
        "!pip install lightfm\n",
        "!pip install nmslib\n",
        "!pip install faiss\n",
        "!pip install annoy\n"
      ],
      "execution_count": 1,
      "outputs": [
        {
          "output_type": "stream",
          "name": "stdout",
          "text": [
            "Looking in indexes: https://pypi.org/simple, https://us-python.pkg.dev/colab-wheels/public/simple/\n",
            "Collecting lightfm\n",
            "  Downloading lightfm-1.16.tar.gz (310 kB)\n",
            "\u001b[K     |████████████████████████████████| 310 kB 5.4 MB/s \n",
            "\u001b[?25hRequirement already satisfied: numpy in /usr/local/lib/python3.7/dist-packages (from lightfm) (1.21.6)\n",
            "Requirement already satisfied: scipy>=0.17.0 in /usr/local/lib/python3.7/dist-packages (from lightfm) (1.7.3)\n",
            "Requirement already satisfied: requests in /usr/local/lib/python3.7/dist-packages (from lightfm) (2.23.0)\n",
            "Requirement already satisfied: scikit-learn in /usr/local/lib/python3.7/dist-packages (from lightfm) (1.0.2)\n",
            "Requirement already satisfied: certifi>=2017.4.17 in /usr/local/lib/python3.7/dist-packages (from requests->lightfm) (2022.9.24)\n",
            "Requirement already satisfied: urllib3!=1.25.0,!=1.25.1,<1.26,>=1.21.1 in /usr/local/lib/python3.7/dist-packages (from requests->lightfm) (1.24.3)\n",
            "Requirement already satisfied: idna<3,>=2.5 in /usr/local/lib/python3.7/dist-packages (from requests->lightfm) (2.10)\n",
            "Requirement already satisfied: chardet<4,>=3.0.2 in /usr/local/lib/python3.7/dist-packages (from requests->lightfm) (3.0.4)\n",
            "Requirement already satisfied: threadpoolctl>=2.0.0 in /usr/local/lib/python3.7/dist-packages (from scikit-learn->lightfm) (3.1.0)\n",
            "Requirement already satisfied: joblib>=0.11 in /usr/local/lib/python3.7/dist-packages (from scikit-learn->lightfm) (1.2.0)\n",
            "Building wheels for collected packages: lightfm\n",
            "  Building wheel for lightfm (setup.py) ... \u001b[?25l\u001b[?25hdone\n",
            "  Created wheel for lightfm: filename=lightfm-1.16-cp37-cp37m-linux_x86_64.whl size=705372 sha256=0f64d1996484df7369cfb3d32f2179b0f6984b43c26a53e31cb12ebfe3231ddd\n",
            "  Stored in directory: /root/.cache/pip/wheels/f8/56/28/5772a3bd3413d65f03aa452190b00898b680b10028a1021914\n",
            "Successfully built lightfm\n",
            "Installing collected packages: lightfm\n",
            "Successfully installed lightfm-1.16\n",
            "Looking in indexes: https://pypi.org/simple, https://us-python.pkg.dev/colab-wheels/public/simple/\n",
            "Collecting nmslib\n",
            "  Downloading nmslib-2.1.1-cp37-cp37m-manylinux2010_x86_64.whl (13.5 MB)\n",
            "\u001b[K     |████████████████████████████████| 13.5 MB 5.0 MB/s \n",
            "\u001b[?25hRequirement already satisfied: psutil in /usr/local/lib/python3.7/dist-packages (from nmslib) (5.4.8)\n",
            "Requirement already satisfied: numpy>=1.10.0 in /usr/local/lib/python3.7/dist-packages (from nmslib) (1.21.6)\n",
            "Collecting pybind11<2.6.2\n",
            "  Downloading pybind11-2.6.1-py2.py3-none-any.whl (188 kB)\n",
            "\u001b[K     |████████████████████████████████| 188 kB 42.2 MB/s \n",
            "\u001b[?25hInstalling collected packages: pybind11, nmslib\n",
            "Successfully installed nmslib-2.1.1 pybind11-2.6.1\n",
            "Looking in indexes: https://pypi.org/simple, https://us-python.pkg.dev/colab-wheels/public/simple/\n",
            "Collecting faiss\n",
            "  Downloading faiss-1.5.3-cp37-cp37m-manylinux1_x86_64.whl (4.7 MB)\n",
            "\u001b[K     |████████████████████████████████| 4.7 MB 5.3 MB/s \n",
            "\u001b[?25hRequirement already satisfied: numpy in /usr/local/lib/python3.7/dist-packages (from faiss) (1.21.6)\n",
            "Installing collected packages: faiss\n",
            "Successfully installed faiss-1.5.3\n",
            "Looking in indexes: https://pypi.org/simple, https://us-python.pkg.dev/colab-wheels/public/simple/\n",
            "Collecting annoy\n",
            "  Downloading annoy-1.17.1.tar.gz (647 kB)\n",
            "\u001b[K     |████████████████████████████████| 647 kB 4.9 MB/s \n",
            "\u001b[?25hBuilding wheels for collected packages: annoy\n",
            "  Building wheel for annoy (setup.py) ... \u001b[?25l\u001b[?25hdone\n",
            "  Created wheel for annoy: filename=annoy-1.17.1-cp37-cp37m-linux_x86_64.whl size=395182 sha256=208203e7935e7e595ebeb9f662777599de84e25eefcae0918b1d4760f9bced8d\n",
            "  Stored in directory: /root/.cache/pip/wheels/81/94/bf/92cb0e4fef8770fe9c6df0ba588fca30ab7c306b6048ae8a54\n",
            "Successfully built annoy\n",
            "Installing collected packages: annoy\n",
            "Successfully installed annoy-1.17.1\n"
          ]
        }
      ]
    },
    {
      "cell_type": "code",
      "metadata": {
        "colab": {
          "base_uri": "https://localhost:8080/"
        },
        "id": "rLR3pS3Z9D0U",
        "outputId": "71aa1c22-e4b2-47c5-d9d2-7399c7777aff"
      },
      "source": [
        "!pip install faiss-cpu --no-cache"
      ],
      "execution_count": 2,
      "outputs": [
        {
          "output_type": "stream",
          "name": "stdout",
          "text": [
            "Looking in indexes: https://pypi.org/simple, https://us-python.pkg.dev/colab-wheels/public/simple/\n",
            "Collecting faiss-cpu\n",
            "  Downloading faiss_cpu-1.7.3-cp37-cp37m-manylinux_2_17_x86_64.manylinux2014_x86_64.whl (17.0 MB)\n",
            "\u001b[K     |████████████████████████████████| 17.0 MB 5.2 MB/s \n",
            "\u001b[?25hInstalling collected packages: faiss-cpu\n",
            "Successfully installed faiss-cpu-1.7.3\n"
          ]
        }
      ]
    },
    {
      "cell_type": "markdown",
      "metadata": {
        "id": "_APp2MZGGYNM"
      },
      "source": [
        "##IMPORTING NECESSARY LIBRARIES"
      ]
    },
    {
      "cell_type": "code",
      "source": [
        "!pip install stackapi"
      ],
      "metadata": {
        "colab": {
          "base_uri": "https://localhost:8080/"
        },
        "id": "Z3wAuP0t-fjc",
        "outputId": "92d95b92-558e-4861-efe7-c2d7c3ad3fbd"
      },
      "execution_count": 4,
      "outputs": [
        {
          "output_type": "stream",
          "name": "stdout",
          "text": [
            "Looking in indexes: https://pypi.org/simple, https://us-python.pkg.dev/colab-wheels/public/simple/\n",
            "Collecting stackapi\n",
            "  Downloading StackAPI-0.2.0.tar.gz (5.6 kB)\n",
            "Requirement already satisfied: requests in /usr/local/lib/python3.7/dist-packages (from stackapi) (2.23.0)\n",
            "Requirement already satisfied: six in /usr/local/lib/python3.7/dist-packages (from stackapi) (1.15.0)\n",
            "Requirement already satisfied: certifi>=2017.4.17 in /usr/local/lib/python3.7/dist-packages (from requests->stackapi) (2022.9.24)\n",
            "Requirement already satisfied: urllib3!=1.25.0,!=1.25.1,<1.26,>=1.21.1 in /usr/local/lib/python3.7/dist-packages (from requests->stackapi) (1.24.3)\n",
            "Requirement already satisfied: idna<3,>=2.5 in /usr/local/lib/python3.7/dist-packages (from requests->stackapi) (2.10)\n",
            "Requirement already satisfied: chardet<4,>=3.0.2 in /usr/local/lib/python3.7/dist-packages (from requests->stackapi) (3.0.4)\n",
            "Building wheels for collected packages: stackapi\n",
            "  Building wheel for stackapi (setup.py) ... \u001b[?25l\u001b[?25hdone\n",
            "  Created wheel for stackapi: filename=StackAPI-0.2.0-py3-none-any.whl size=5859 sha256=dcdca1b53f50cd7d0f0bef6f545df3d404b29ab0a9b7808d2d42cbb8e3695eec\n",
            "  Stored in directory: /root/.cache/pip/wheels/ec/db/60/df42a65853e3581c26a2fbb2012a228cb8e267369a3b9ca44d\n",
            "Successfully built stackapi\n",
            "Installing collected packages: stackapi\n",
            "Successfully installed stackapi-0.2.0\n"
          ]
        }
      ]
    },
    {
      "cell_type": "code",
      "metadata": {
        "id": "LjrserL08ajK"
      },
      "source": [
        "import pickle\n",
        "from lightfm import LightFM\n",
        "from lightfm.datasets import fetch_stackexchange\n",
        "import nmslib\n",
        "import faiss\n",
        "import annoy\n",
        "import time\n",
        "from stackapi import StackAPI"
      ],
      "execution_count": 5,
      "outputs": []
    },
    {
      "cell_type": "markdown",
      "metadata": {
        "id": "wyWQFJ_LGhdn"
      },
      "source": [
        "##LOAD DATA"
      ]
    },
    {
      "cell_type": "code",
      "metadata": {
        "colab": {
          "base_uri": "https://localhost:8080/"
        },
        "id": "hjZs8Buc9Nss",
        "outputId": "26e6b5ec-746c-4a22-f6d7-f373d998a92e"
      },
      "source": [
        "stackexchange = fetch_stackexchange('crossvalidated')\n",
        "stackexchange"
      ],
      "execution_count": 7,
      "outputs": [
        {
          "output_type": "execute_result",
          "data": {
            "text/plain": [
              "{'train': <2836x72360 sparse matrix of type '<class 'numpy.float32'>'\n",
              " \twith 51477 stored elements in COOrdinate format>,\n",
              " 'test': <2836x72360 sparse matrix of type '<class 'numpy.float32'>'\n",
              " \twith 8020 stored elements in COOrdinate format>,\n",
              " 'item_features': <72360x72360 sparse matrix of type '<class 'numpy.float32'>'\n",
              " \twith 72360 stored elements in Compressed Sparse Row format>,\n",
              " 'item_feature_labels': array(['question_id:0', 'question_id:1', 'question_id:2', ...,\n",
              "        'question_id:72357', 'question_id:72358', 'question_id:72359'],\n",
              "       dtype='<U17')}"
            ]
          },
          "metadata": {},
          "execution_count": 7
        }
      ]
    },
    {
      "cell_type": "code",
      "metadata": {
        "id": "XlBuluJZ9Qiq"
      },
      "source": [
        "train = stackexchange['train']\n",
        "test = stackexchange['test']\n",
        "\n",
        "model = LightFM(learning_rate=0.05, loss='warp', no_components=64, item_alpha=0.001)\n",
        "model.fit_partial(train, item_features=stackexchange['item_features'], epochs=20 )\n",
        "\n",
        "item_vectors = stackexchange['item_features'] * model.item_embeddings"
      ],
      "execution_count": 8,
      "outputs": []
    },
    {
      "cell_type": "code",
      "metadata": {
        "colab": {
          "base_uri": "https://localhost:8080/"
        },
        "id": "-Otq-u_S9WVd",
        "outputId": "5affae66-63d0-4ff3-af5a-5f33d2b137f8"
      },
      "source": [
        "stackexchange['item_feature_labels']"
      ],
      "execution_count": 9,
      "outputs": [
        {
          "output_type": "execute_result",
          "data": {
            "text/plain": [
              "array(['question_id:0', 'question_id:1', 'question_id:2', ...,\n",
              "       'question_id:72357', 'question_id:72358', 'question_id:72359'],\n",
              "      dtype='<U17')"
            ]
          },
          "metadata": {},
          "execution_count": 9
        }
      ]
    },
    {
      "cell_type": "markdown",
      "metadata": {
        "id": "C_gKVxbHHn1p"
      },
      "source": [
        "###Pickle data"
      ]
    },
    {
      "cell_type": "code",
      "metadata": {
        "id": "UAKYCAxf9exn"
      },
      "source": [
        "with open('stack_exchange.pickle', 'wb') as f:\n",
        "    pickle.dump({\"name\": stackexchange['item_feature_labels'], \"vector\": item_vectors}, f)"
      ],
      "execution_count": 10,
      "outputs": []
    },
    {
      "cell_type": "markdown",
      "metadata": {
        "id": "jQj_T3moHpmI"
      },
      "source": [
        "###Load data and visualize it"
      ]
    },
    {
      "cell_type": "code",
      "metadata": {
        "colab": {
          "base_uri": "https://localhost:8080/"
        },
        "id": "Rw9UbONG9kAF",
        "outputId": "64e7a11b-d502-400b-8d6b-c356137e37f0"
      },
      "source": [
        "def load_data():\n",
        "    with open('stack_exchange.pickle', 'rb') as f:\n",
        "        data = pickle.load(f)\n",
        "    return data\n",
        "\n",
        "data = load_data()\n",
        "data"
      ],
      "execution_count": 11,
      "outputs": [
        {
          "output_type": "execute_result",
          "data": {
            "text/plain": [
              "{'name': array(['question_id:0', 'question_id:1', 'question_id:2', ...,\n",
              "        'question_id:72357', 'question_id:72358', 'question_id:72359'],\n",
              "       dtype='<U17'),\n",
              " 'vector': array([[ 0.00697032,  0.04790997,  0.12536475, ..., -0.12463009,\n",
              "         -0.05288965,  0.13861355],\n",
              "        [-0.02087457, -0.02841803,  0.13443491, ..., -0.11852854,\n",
              "         -0.0703564 , -0.12902519],\n",
              "        [ 0.010651  ,  0.0415263 ,  0.12601689, ..., -0.1496781 ,\n",
              "         -0.13284197, -0.14351618],\n",
              "        ...,\n",
              "        [ 0.01942083, -0.03132042, -0.00682115, ...,  0.02231003,\n",
              "          0.02628561, -0.02916586],\n",
              "        [-0.01936831, -0.02114354,  0.04661608, ..., -0.00233051,\n",
              "         -0.00840903, -0.01128837],\n",
              "        [-0.00639899,  0.06478348,  0.08963732, ...,  0.04589099,\n",
              "         -0.00139314, -0.00056165]], dtype=float32)}"
            ]
          },
          "metadata": {},
          "execution_count": 11
        }
      ]
    },
    {
      "cell_type": "markdown",
      "metadata": {
        "id": "w_vNXhUx9tHI"
      },
      "source": [
        "##LSH\n",
        "Locality-sensitive hashing (LSH) is an algorithmic technique that hashes similar input items into the same \"buckets\" with high probability. The number of buckets is much smaller than the universe of possible input items. Since similar items end up in the same buckets, this technique can be used for data clustering and nearest neighbor search. It differs from conventional hashing techniques in that hash collisions are maximized, not minimized. "
      ]
    },
    {
      "cell_type": "markdown",
      "metadata": {
        "id": "fQRSVRk7G5q0"
      },
      "source": [
        "###VISUALIZING VECTORS"
      ]
    },
    {
      "cell_type": "code",
      "metadata": {
        "id": "H6Z1juFY9uXf"
      },
      "source": [
        "vectors_value = data[\"vector\"]\n",
        "names_value = data[\"name\"]"
      ],
      "execution_count": 12,
      "outputs": []
    },
    {
      "cell_type": "code",
      "metadata": {
        "colab": {
          "base_uri": "https://localhost:8080/"
        },
        "id": "WjCrkTPe93Sp",
        "outputId": "59f013f1-1f97-4f86-f760-d34f7fee7e68"
      },
      "source": [
        "vectors_value"
      ],
      "execution_count": 13,
      "outputs": [
        {
          "output_type": "execute_result",
          "data": {
            "text/plain": [
              "array([[ 0.00697032,  0.04790997,  0.12536475, ..., -0.12463009,\n",
              "        -0.05288965,  0.13861355],\n",
              "       [-0.02087457, -0.02841803,  0.13443491, ..., -0.11852854,\n",
              "        -0.0703564 , -0.12902519],\n",
              "       [ 0.010651  ,  0.0415263 ,  0.12601689, ..., -0.1496781 ,\n",
              "        -0.13284197, -0.14351618],\n",
              "       ...,\n",
              "       [ 0.01942083, -0.03132042, -0.00682115, ...,  0.02231003,\n",
              "         0.02628561, -0.02916586],\n",
              "       [-0.01936831, -0.02114354,  0.04661608, ..., -0.00233051,\n",
              "        -0.00840903, -0.01128837],\n",
              "       [-0.00639899,  0.06478348,  0.08963732, ...,  0.04589099,\n",
              "        -0.00139314, -0.00056165]], dtype=float32)"
            ]
          },
          "metadata": {},
          "execution_count": 13
        }
      ]
    },
    {
      "cell_type": "code",
      "metadata": {
        "colab": {
          "base_uri": "https://localhost:8080/"
        },
        "id": "KAYX4MWf94kw",
        "outputId": "599d2bc0-0594-40c6-dbdb-42f0e3f813ec"
      },
      "source": [
        "names_value"
      ],
      "execution_count": 14,
      "outputs": [
        {
          "output_type": "execute_result",
          "data": {
            "text/plain": [
              "array(['question_id:0', 'question_id:1', 'question_id:2', ...,\n",
              "       'question_id:72357', 'question_id:72358', 'question_id:72359'],\n",
              "      dtype='<U17')"
            ]
          },
          "metadata": {},
          "execution_count": 14
        }
      ]
    },
    {
      "cell_type": "markdown",
      "metadata": {
        "id": "nqa2AZOjG_Ju"
      },
      "source": [
        "###Creating Index Class"
      ]
    },
    {
      "cell_type": "code",
      "metadata": {
        "id": "XkDlBhrR-A0O"
      },
      "source": [
        "class LSHIndex():\n",
        "  def __init__(self, vectors, labels):\n",
        "      self.dimension = vectors.shape[1]\n",
        "      self.vectors = vectors.astype('float32')\n",
        "      self.labels = labels\n",
        "  def build_index(self, num_bits=8):\n",
        "      self.index = faiss.IndexLSH(self.dimension, num_bits)\n",
        "      self.index.add(self.vectors)\n",
        "  def results(self, vectors, k=10):\n",
        "      distances, indices = self.index.search(vectors, k) \n",
        "      return [self.labels[i] for i in indices[0]]"
      ],
      "execution_count": 15,
      "outputs": []
    },
    {
      "cell_type": "markdown",
      "metadata": {
        "id": "UVCV7hSFHRnZ"
      },
      "source": [
        "###Checking the time taken for the algorithm to return the data\n",
        "Here we are checking for the similar questions to question id 6"
      ]
    },
    {
      "cell_type": "code",
      "metadata": {
        "colab": {
          "base_uri": "https://localhost:8080/"
        },
        "id": "aO359aZD-FnU",
        "outputId": "2f1f8289-81ff-4407-b260-fb54a50131e2"
      },
      "source": [
        "time_1 = time.time()\n",
        "\n",
        "lsh_ind = LSHIndex(data[\"vector\"], data[\"name\"])\n",
        "lsh_ind.build_index()\n",
        "\n",
        "vector, name = data['vector'][6:7], data['name'][6]\n",
        "\n",
        "simlar_question_return_ids = '\\n '.join(lsh_ind.results(vector))\n",
        "print(f\"Similar questions to question id - {name} are:\\n {simlar_question_return_ids}\")\n",
        "\n",
        "time_2 = time.time()\n",
        "\n",
        "total_time = time_2-time_1\n",
        "\n",
        "print(\"LSH took {total_time} seconds.\".format(total_time=total_time))"
      ],
      "execution_count": 16,
      "outputs": [
        {
          "output_type": "stream",
          "name": "stdout",
          "text": [
            "Similar questions to question id - question_id:6 are:\n",
            " question_id:6\n",
            " question_id:12\n",
            " question_id:14\n",
            " question_id:36\n",
            " question_id:63\n",
            " question_id:70\n",
            " question_id:126\n",
            " question_id:141\n",
            " question_id:173\n",
            " question_id:280\n",
            "LSH took 0.03609466552734375 seconds.\n"
          ]
        }
      ]
    },
    {
      "cell_type": "markdown",
      "metadata": {
        "id": "vaSXlpI4Hvi1"
      },
      "source": [
        "###Let us retrieve the question id for one of the questions from the above returned result along with the original question"
      ]
    },
    {
      "cell_type": "code",
      "metadata": {
        "colab": {
          "base_uri": "https://localhost:8080/"
        },
        "id": "bumzGAKTA2jr",
        "outputId": "1210a405-cf44-40de-c355-e82c9819bcac"
      },
      "source": [
        "site_name = 'stackoverflow'\n",
        "site_value = StackAPI(site_name)\n",
        "question = site_value.fetch('questions/{ids}', ids=[337], filter='withbody')\n",
        "question"
      ],
      "execution_count": 17,
      "outputs": [
        {
          "output_type": "execute_result",
          "data": {
            "text/plain": [
              "{'backoff': 0,\n",
              " 'has_more': False,\n",
              " 'page': 1,\n",
              " 'quota_max': 300,\n",
              " 'quota_remaining': 299,\n",
              " 'total': 0,\n",
              " 'items': [{'tags': ['python', 'xml'],\n",
              "   'owner': {'reputation': 3644,\n",
              "    'user_id': 111,\n",
              "    'user_type': 'registered',\n",
              "    'accept_rate': 73,\n",
              "    'profile_image': 'https://www.gravatar.com/avatar/0b4711b9840dae35e1f921354dc320c0?s=256&d=identicon&r=PG',\n",
              "    'display_name': 'saalon',\n",
              "    'link': 'https://stackoverflow.com/users/111/saalon'},\n",
              "   'is_answered': True,\n",
              "   'view_count': 10153,\n",
              "   'protected_date': 1376504248,\n",
              "   'accepted_answer_id': 342,\n",
              "   'answer_count': 12,\n",
              "   'score': 82,\n",
              "   'last_activity_date': 1636743381,\n",
              "   'creation_date': 1217648155,\n",
              "   'last_edit_date': 1483102581,\n",
              "   'question_id': 337,\n",
              "   'content_license': 'CC BY-SA 3.0',\n",
              "   'link': 'https://stackoverflow.com/questions/337/xml-processing-in-python',\n",
              "   'title': 'XML Processing in Python',\n",
              "   'body': \"<p>I am about to build a piece of a project that will need to construct and post an XML document to a web service and I'd like to do it in Python, as a means to expand my skills in it.  </p>\\n\\n<p>Unfortunately, whilst I know the XML model fairly well in .NET, I'm uncertain what the pros and cons are of the XML models in Python.  </p>\\n\\n<p>Anyone have experience doing XML processing in Python? Where would you suggest I start? The XML files I'll be building will be fairly simple.</p>\\n\"}]}"
            ]
          },
          "metadata": {},
          "execution_count": 17
        }
      ]
    },
    {
      "cell_type": "markdown",
      "metadata": {
        "id": "RHoqHj_ZIO-j"
      },
      "source": [
        "Question with question id - 6"
      ]
    },
    {
      "cell_type": "code",
      "metadata": {
        "colab": {
          "base_uri": "https://localhost:8080/"
        },
        "id": "ZGuukm2gIDr6",
        "outputId": "65604f38-883d-4713-af29-577ac92698e8"
      },
      "source": [
        "asked_question = site_value.fetch('questions/{ids}', ids=[6], filter='withbody')\n",
        "print(\"Question Id 6\\n\" + asked_question['items'][0]['title'])"
      ],
      "execution_count": 18,
      "outputs": [
        {
          "output_type": "stream",
          "name": "stdout",
          "text": [
            "Question Id 6\n",
            "Why did the width collapse in the percentage width child element in an absolutely positioned parent on Internet Explorer 7?\n"
          ]
        }
      ]
    },
    {
      "cell_type": "markdown",
      "metadata": {
        "id": "JAbRS8bKIacn"
      },
      "source": [
        "Question with question id - 1010"
      ]
    },
    {
      "cell_type": "code",
      "metadata": {
        "colab": {
          "base_uri": "https://localhost:8080/"
        },
        "id": "-Fsw5dOdCHuM",
        "outputId": "8ef99ad3-9d49-4b26-b24a-7a6c583ec2cf"
      },
      "source": [
        "print(\"Following question is similar:\\n\" + question['items'][0]['title'])\n"
      ],
      "execution_count": 19,
      "outputs": [
        {
          "output_type": "stream",
          "name": "stdout",
          "text": [
            "Following question is similar:\n",
            "XML Processing in Python\n"
          ]
        }
      ]
    },
    {
      "cell_type": "markdown",
      "metadata": {
        "id": "lKTs6FPuCgFS"
      },
      "source": [
        "##Exhaustive Search\n",
        "Any search process in which every item of a set is checked before a decision is made about the presence or absence of a target item. This may be a search for particular items in memory, a visual search, or any problem-solving exercise that involves choosing the best path to a solution from a number of alternative paths."
      ]
    },
    {
      "cell_type": "markdown",
      "metadata": {
        "id": "Etb_DxQbJNUW"
      },
      "source": [
        "###Creating Index Class"
      ]
    },
    {
      "cell_type": "code",
      "metadata": {
        "id": "oDLXT00hCXRg"
      },
      "source": [
        "class ExhaustiveSearchIndex():\n",
        "  def __init__(self, vectors, labels):\n",
        "    self.dimension = vectors.shape[1]\n",
        "    self.vectors = vectors.astype('float32')\n",
        "    self.labels = labels\n",
        "\n",
        "  def build_index(self):\n",
        "    self.index = faiss.IndexFlatL2(self.dimension,)\n",
        "    self.index.add(self.vectors)\n",
        "\n",
        "  def results(self, vectors, k=10):\n",
        "    distances, indices = self.index.search(vectors, k) \n",
        "    return [self.labels[i] for i in indices[0]]"
      ],
      "execution_count": 20,
      "outputs": []
    },
    {
      "cell_type": "markdown",
      "metadata": {
        "id": "YkU8b-dSJSts"
      },
      "source": [
        "###Checking the time taken for the algorithm to return the data\n",
        "Here we are checking for the similar questions to question id 6"
      ]
    },
    {
      "cell_type": "code",
      "metadata": {
        "colab": {
          "base_uri": "https://localhost:8080/"
        },
        "id": "e1LraEsLCtWi",
        "outputId": "6959d52f-8757-4f0e-bee2-ad3cbce59ead"
      },
      "source": [
        "time_1 = time.time()\n",
        "\n",
        "exi_ind = ExhaustiveSearchIndex(data[\"vector\"], data[\"name\"])\n",
        "exi_ind.build_index()\n",
        "\n",
        "vector, name = data['vector'][6:7], data['name'][6]\n",
        "\n",
        "simlar_question_return_ids = '\\n '.join(exi_ind.results(vector))\n",
        "print(f\"Similar questions to question id - {name} are:\\n {simlar_question_return_ids}\")\n",
        "\n",
        "time_2 = time.time()\n",
        "\n",
        "total_time = time_2-time_1\n",
        "\n",
        "print(\"Exhaustive Search took {total_time} seconds.\".format(total_time=total_time))"
      ],
      "execution_count": 21,
      "outputs": [
        {
          "output_type": "stream",
          "name": "stdout",
          "text": [
            "Similar questions to question id - question_id:6 are:\n",
            " question_id:6\n",
            " question_id:9\n",
            " question_id:64302\n",
            " question_id:70779\n",
            " question_id:37425\n",
            " question_id:28595\n",
            " question_id:375\n",
            " question_id:27131\n",
            " question_id:22895\n",
            " question_id:21656\n",
            "Exhaustive Search took 0.053157806396484375 seconds.\n"
          ]
        }
      ]
    },
    {
      "cell_type": "markdown",
      "metadata": {
        "id": "F9levtgVJY3w"
      },
      "source": [
        "###Let us retrieve the question id for one of the questions from the above returned result along with the original question"
      ]
    },
    {
      "cell_type": "code",
      "metadata": {
        "colab": {
          "base_uri": "https://localhost:8080/"
        },
        "id": "PVN52k8oDKWF",
        "outputId": "afbf5be9-fee8-45b3-b079-dc1622e34707"
      },
      "source": [
        "question = site_value.fetch('questions/{ids}', ids=[9], filter='withbody')\n",
        "question"
      ],
      "execution_count": 22,
      "outputs": [
        {
          "output_type": "execute_result",
          "data": {
            "text/plain": [
              "{'backoff': 0,\n",
              " 'has_more': False,\n",
              " 'page': 1,\n",
              " 'quota_max': 300,\n",
              " 'quota_remaining': 298,\n",
              " 'total': 0,\n",
              " 'items': [{'tags': ['c#', '.net', 'datetime'],\n",
              "   'owner': {'reputation': 62831,\n",
              "    'user_id': 1,\n",
              "    'user_type': 'registered',\n",
              "    'accept_rate': 100,\n",
              "    'profile_image': 'https://www.gravatar.com/avatar/51d623f33f8b83095db84ff35e15dbe8?s=256&d=identicon&r=PG',\n",
              "    'display_name': 'Jeff Atwood',\n",
              "    'link': 'https://stackoverflow.com/users/1/jeff-atwood'},\n",
              "   'is_answered': True,\n",
              "   'view_count': 768713,\n",
              "   'accepted_answer_id': 1404,\n",
              "   'answer_count': 71,\n",
              "   'community_owned_date': 1313523643,\n",
              "   'score': 2176,\n",
              "   'last_activity_date': 1659461135,\n",
              "   'creation_date': 1217547659,\n",
              "   'last_edit_date': 1658961276,\n",
              "   'question_id': 9,\n",
              "   'content_license': 'CC BY-SA 4.0',\n",
              "   'link': 'https://stackoverflow.com/questions/9/how-do-i-calculate-someones-age-based-on-a-datetime-type-birthday',\n",
              "   'title': 'How do I calculate someone&#39;s age based on a DateTime type birthday?',\n",
              "   'body': \"<p>Given a <code>DateTime</code> representing a person's birthday, how do I calculate their age in years?</p>\\n\"}]}"
            ]
          },
          "metadata": {},
          "execution_count": 22
        }
      ]
    },
    {
      "cell_type": "markdown",
      "metadata": {
        "id": "0NMBBRj6KU4O"
      },
      "source": [
        "Question for question id 6"
      ]
    },
    {
      "cell_type": "code",
      "metadata": {
        "colab": {
          "base_uri": "https://localhost:8080/"
        },
        "id": "vZCqZI1bKZao",
        "outputId": "c388ee5f-c361-4ae8-ead6-a5350d70f28d"
      },
      "source": [
        "asked_question = site_value.fetch('questions/{ids}', ids=[6], filter='withbody')\n",
        "print(\"Question Id 6\\n\" + asked_question['items'][0]['title'])"
      ],
      "execution_count": 23,
      "outputs": [
        {
          "output_type": "stream",
          "name": "stdout",
          "text": [
            "Question Id 6\n",
            "Why did the width collapse in the percentage width child element in an absolutely positioned parent on Internet Explorer 7?\n"
          ]
        }
      ]
    },
    {
      "cell_type": "code",
      "metadata": {
        "colab": {
          "base_uri": "https://localhost:8080/"
        },
        "id": "3nLea9RlDXTG",
        "outputId": "bbf4fef1-fb6a-4430-c506-e4aa1a43ac1b"
      },
      "source": [
        "print(\"Following question is similar:\\n\" + question['items'][0]['title'])"
      ],
      "execution_count": 24,
      "outputs": [
        {
          "output_type": "stream",
          "name": "stdout",
          "text": [
            "Following question is similar:\n",
            "How do I calculate someone&#39;s age based on a DateTime type birthday?\n"
          ]
        }
      ]
    },
    {
      "cell_type": "markdown",
      "metadata": {
        "id": "ERdHrAX7Dk7g"
      },
      "source": [
        "##Trees and Graphs"
      ]
    },
    {
      "cell_type": "markdown",
      "metadata": {
        "id": "VfflfW-JKiI0"
      },
      "source": [
        "###Create Index Class"
      ]
    },
    {
      "cell_type": "code",
      "metadata": {
        "id": "FPXaO0ySDpUe"
      },
      "source": [
        "class AnnoyIndex():\n",
        "    def __init__(self, vectors, labels):\n",
        "        self.dimention = vectors.shape[1]\n",
        "        self.vectors = vectors.astype('float32')\n",
        "        self.labels = labels\n",
        "\n",
        "\n",
        "    def build(self, number_of_trees=5):\n",
        "        self.index = annoy.AnnoyIndex(self.dimention)\n",
        "        for i, vec in enumerate(self.vectors):\n",
        "            self.index.add_item(i, vec.tolist())\n",
        "        self.index.build(number_of_trees)\n",
        "        \n",
        "    def results(self, vector, k=10):\n",
        "        indices = self.index.get_nns_by_vector(vector.tolist(), k)\n",
        "        return [self.labels[i] for i in indices]"
      ],
      "execution_count": 25,
      "outputs": []
    },
    {
      "cell_type": "markdown",
      "metadata": {
        "id": "1SjnFGacKmpZ"
      },
      "source": [
        "###Checking the time taken for the algorithm to return the data\n",
        "Here we are checking for the similar questions to question id 6"
      ]
    },
    {
      "cell_type": "code",
      "metadata": {
        "colab": {
          "base_uri": "https://localhost:8080/"
        },
        "id": "qJ-K3TB8DwRn",
        "outputId": "abf3cb8f-fe0a-4979-9a53-75cf12114329"
      },
      "source": [
        "time_1 = time.time()\n",
        "\n",
        "annoy_ind = AnnoyIndex(data[\"vector\"], data[\"name\"])\n",
        "annoy_ind.build()\n",
        "\n",
        "vector, name = data['vector'][6], data['name'][6]\n",
        "\n",
        "simlar_question_return_ids = '\\n '.join(annoy_ind.results(vector))\n",
        "print(f\"Similar questions to question id - {name} are:\\n {simlar_question_return_ids}\")\n",
        "\n",
        "time_2 = time.time()\n",
        "\n",
        "total_time = time_2-time_1\n",
        "\n",
        "print(\"Trees and Graphs took {total_time} seconds.\".format(total_time=total_time))"
      ],
      "execution_count": 26,
      "outputs": [
        {
          "output_type": "stream",
          "name": "stderr",
          "text": [
            "/usr/local/lib/python3.7/dist-packages/ipykernel_launcher.py:9: FutureWarning: The default argument for metric will be removed in future version of Annoy. Please pass metric='angular' explicitly.\n",
            "  if __name__ == '__main__':\n"
          ]
        },
        {
          "output_type": "stream",
          "name": "stdout",
          "text": [
            "Similar questions to question id - question_id:6 are:\n",
            " question_id:6\n",
            " question_id:64302\n",
            " question_id:715\n",
            " question_id:629\n",
            " question_id:54\n",
            " question_id:207\n",
            " question_id:1771\n",
            " question_id:141\n",
            " question_id:583\n",
            " question_id:126\n",
            "Trees and Graphs took 0.945528507232666 seconds.\n"
          ]
        }
      ]
    },
    {
      "cell_type": "markdown",
      "metadata": {
        "id": "uJ0jT5lvLhqE"
      },
      "source": [
        "###Let us retrieve the question id for one of the questions from the above returned result along with the original question"
      ]
    },
    {
      "cell_type": "code",
      "metadata": {
        "colab": {
          "base_uri": "https://localhost:8080/"
        },
        "id": "vnWefqgcEQEw",
        "outputId": "88a96e55-2e53-4108-ba81-60d1f8629ef3"
      },
      "source": [
        "question = site_value.fetch('questions/{ids}', ids=[6], filter='withbody')\n",
        "question"
      ],
      "execution_count": 27,
      "outputs": [
        {
          "output_type": "execute_result",
          "data": {
            "text/plain": [
              "{'backoff': 0,\n",
              " 'has_more': False,\n",
              " 'page': 1,\n",
              " 'quota_max': 300,\n",
              " 'quota_remaining': 294,\n",
              " 'total': 0,\n",
              " 'items': [{'tags': ['html', 'css', 'internet-explorer-7'],\n",
              "   'owner': {'reputation': 24972,\n",
              "    'user_id': 9,\n",
              "    'user_type': 'registered',\n",
              "    'accept_rate': 32,\n",
              "    'profile_image': 'https://www.gravatar.com/avatar/23c1e2063688620b75b248e08c0d5c24?s=256&d=identicon&r=PG',\n",
              "    'display_name': 'Kevin Dente',\n",
              "    'link': 'https://stackoverflow.com/users/9/kevin-dente'},\n",
              "   'is_answered': True,\n",
              "   'view_count': 23219,\n",
              "   'protected_date': 1414626308,\n",
              "   'accepted_answer_id': 31,\n",
              "   'answer_count': 7,\n",
              "   'score': 319,\n",
              "   'last_activity_date': 1611946005,\n",
              "   'creation_date': 1217542088,\n",
              "   'last_edit_date': 1611946005,\n",
              "   'question_id': 6,\n",
              "   'content_license': 'CC BY-SA 4.0',\n",
              "   'link': 'https://stackoverflow.com/questions/6/why-did-the-width-collapse-in-the-percentage-width-child-element-in-an-absolutel',\n",
              "   'title': 'Why did the width collapse in the percentage width child element in an absolutely positioned parent on Internet Explorer 7?',\n",
              "   'body': \"<p>I have an absolutely positioned <code>div</code> containing several children, one of which is a relatively positioned <code>div</code>. When I use a <code>percentage-based width</code> on the child <code>div</code>, it collapses to <code>0 width</code> on IE7, but not on Firefox or Safari.</p>\\n<p>If I use <code>pixel width</code>, it works. If the parent is relatively positioned, the percentage width on the child works.</p>\\n<ol>\\n<li>Is there something I'm missing here?</li>\\n<li>Is there an easy fix for this besides the <code>pixel-based width</code> on the child?</li>\\n<li>Is there an area of the CSS specification that covers this?</li>\\n</ol>\\n\"}]}"
            ]
          },
          "metadata": {},
          "execution_count": 27
        }
      ]
    },
    {
      "cell_type": "markdown",
      "metadata": {
        "id": "l-xjcaZrJdxI"
      },
      "source": [
        "Question for question id 6"
      ]
    },
    {
      "cell_type": "code",
      "metadata": {
        "colab": {
          "base_uri": "https://localhost:8080/"
        },
        "id": "9lU_LuexJejj",
        "outputId": "efea5bd8-4649-4fd8-8177-51b4b40a1432"
      },
      "source": [
        "asked_question = site_value.fetch('questions/{ids}', ids=[6], filter='withbody')\n",
        "print(\"Question Id 6\\n\" + asked_question['items'][0]['title'])"
      ],
      "execution_count": 28,
      "outputs": [
        {
          "output_type": "stream",
          "name": "stdout",
          "text": [
            "Question Id 6\n",
            "Why did the width collapse in the percentage width child element in an absolutely positioned parent on Internet Explorer 7?\n"
          ]
        }
      ]
    },
    {
      "cell_type": "markdown",
      "metadata": {
        "id": "kfqvuxbMLPsr"
      },
      "source": [
        "Similar question"
      ]
    },
    {
      "cell_type": "code",
      "metadata": {
        "colab": {
          "base_uri": "https://localhost:8080/"
        },
        "id": "m7MHs9x4Eoti",
        "outputId": "1240c742-c712-4510-c806-8e68dc020cb3"
      },
      "source": [
        "print(\"Following question is similar:\\n\" + question['items'][0]['title'])"
      ],
      "execution_count": 29,
      "outputs": [
        {
          "output_type": "stream",
          "name": "stdout",
          "text": [
            "Following question is similar:\n",
            "Why did the width collapse in the percentage width child element in an absolutely positioned parent on Internet Explorer 7?\n"
          ]
        }
      ]
    },
    {
      "cell_type": "markdown",
      "metadata": {
        "id": "n8JHCHq_EqNx"
      },
      "source": [
        "##Product Quantization\n",
        "Product quantization (PQ) is an effective vector quantization method. A product quantizer can generate an exponentially large codebook at very low memory/time cost. The essence of PQ is to decompose the high-dimensional vector space into the Cartesian product of subspaces and then quantize these subspaces separately."
      ]
    },
    {
      "cell_type": "markdown",
      "metadata": {
        "id": "VRIvyPcjLRhM"
      },
      "source": [
        "###Create Index Class"
      ]
    },
    {
      "cell_type": "code",
      "metadata": {
        "id": "Q9VKAEUEEtHc"
      },
      "source": [
        "class PQIndex():\n",
        "    def __init__(self, vectors, labels):\n",
        "        self.dimension = vectors.shape[1]\n",
        "        self.vectors = vectors.astype('float32')\n",
        "        self.labels = labels    \n",
        "        \n",
        "    def build(self, \n",
        "              number_of_partition=8, \n",
        "              search_in_x_partitions=2, \n",
        "              subvector_size=8):\n",
        "        quantizer = faiss.IndexFlatL2(self.dimension)\n",
        "        self.index = faiss.IndexIVFPQ(quantizer, \n",
        "                                      self.dimension, \n",
        "                                      number_of_partition, \n",
        "                                      search_in_x_partitions, \n",
        "                                      subvector_size)\n",
        "        self.index.train(self.vectors)\n",
        "        self.index.add(self.vectors)\n",
        "        \n",
        "    def results(self, vectors, k=10):\n",
        "        distances, indices = self.index.search(vectors, k) \n",
        "        return [self.labels[i] for i in indices[0]]"
      ],
      "execution_count": 30,
      "outputs": []
    },
    {
      "cell_type": "markdown",
      "metadata": {
        "id": "Fc3jA61HKof9"
      },
      "source": [
        "###Checking the time taken for the algorithm to return the data\n",
        "Here we are checking for the similar questions to question id 6"
      ]
    },
    {
      "cell_type": "code",
      "metadata": {
        "colab": {
          "base_uri": "https://localhost:8080/"
        },
        "id": "vJ2myRZ6E0zU",
        "outputId": "3fc3e77c-ab22-4a1c-913a-708ec824a69d"
      },
      "source": [
        "time_1 = time.time()\n",
        "\n",
        "annoy_ind = PQIndex(data[\"vector\"], data[\"name\"])\n",
        "annoy_ind.build()\n",
        "\n",
        "vector, name = data['vector'][6:7], data['name'][6]\n",
        "\n",
        "simlar_question_return_ids = '\\n '.join(annoy_ind.results(vector))\n",
        "print(f\"Similar questions to question id - {name} are:\\n {simlar_question_return_ids}\")\n",
        "\n",
        "time_2 = time.time()\n",
        "\n",
        "total_time = time_2-time_1\n",
        "\n",
        "print(\"Product Quantization took {total_time} seconds.\".format(total_time=total_time))"
      ],
      "execution_count": 31,
      "outputs": [
        {
          "output_type": "stream",
          "name": "stdout",
          "text": [
            "Similar questions to question id - question_id:6 are:\n",
            " question_id:6\n",
            " question_id:916\n",
            " question_id:375\n",
            " question_id:23824\n",
            " question_id:9184\n",
            " question_id:40542\n",
            " question_id:788\n",
            " question_id:11863\n",
            " question_id:13887\n",
            " question_id:63256\n",
            "Product Quantization took 3.110276460647583 seconds.\n"
          ]
        }
      ]
    },
    {
      "cell_type": "markdown",
      "metadata": {
        "id": "jiu2cbxSLj54"
      },
      "source": [
        "###Let us retrieve the question id for one of the questions from the above returned result along with the original question"
      ]
    },
    {
      "cell_type": "code",
      "metadata": {
        "colab": {
          "base_uri": "https://localhost:8080/"
        },
        "id": "XuezkFS2FXWo",
        "outputId": "ffd45ca3-cfc3-4646-ca18-e9ec567741ac"
      },
      "source": [
        "question = site_value.fetch('questions/{ids}', ids=[145], filter='withbody')\n",
        "question"
      ],
      "execution_count": 32,
      "outputs": [
        {
          "output_type": "execute_result",
          "data": {
            "text/plain": [
              "{'backoff': 0,\n",
              " 'has_more': False,\n",
              " 'page': 1,\n",
              " 'quota_max': 300,\n",
              " 'quota_remaining': 292,\n",
              " 'total': 0,\n",
              " 'items': [{'tags': ['c#', '.net', 'file', 'compression'],\n",
              "   'owner': {'reputation': 2285,\n",
              "    'user_id': 87,\n",
              "    'user_type': 'registered',\n",
              "    'accept_rate': 67,\n",
              "    'profile_image': 'https://www.gravatar.com/avatar/1f8377ba373028db1c2598a963c9ee2c?s=256&d=identicon&r=PG',\n",
              "    'display_name': 'DylanJ',\n",
              "    'link': 'https://stackoverflow.com/users/87/dylanj'},\n",
              "   'is_answered': True,\n",
              "   'view_count': 5217,\n",
              "   'answer_count': 9,\n",
              "   'community_owned_date': 1396616569,\n",
              "   'score': 61,\n",
              "   'last_activity_date': 1584530660,\n",
              "   'creation_date': 1217610788,\n",
              "   'last_edit_date': 1545747183,\n",
              "   'question_id': 145,\n",
              "   'content_license': 'CC BY-SA 4.0',\n",
              "   'link': 'https://stackoverflow.com/questions/145/compressing-decompressing-folders-files',\n",
              "   'title': 'Compressing / Decompressing Folders &amp; Files',\n",
              "   'body': '<p>Does anyone know of a good way to compress or decompress files and folders in C# quickly? Handling large files might be necessary.</p>\\n'}]}"
            ]
          },
          "metadata": {},
          "execution_count": 32
        }
      ]
    },
    {
      "cell_type": "markdown",
      "metadata": {
        "id": "Bp9LUJl5Lqfc"
      },
      "source": [
        "Question with question id 6"
      ]
    },
    {
      "cell_type": "code",
      "metadata": {
        "colab": {
          "base_uri": "https://localhost:8080/"
        },
        "id": "9_G7jhCZLp5U",
        "outputId": "d72be912-09cd-4fd9-af6a-03453e0e0572"
      },
      "source": [
        "asked_question = site_value.fetch('questions/{ids}', ids=[6], filter='withbody')\n",
        "print(\"Question Id 6\\n\" + asked_question['items'][0]['title'])"
      ],
      "execution_count": 33,
      "outputs": [
        {
          "output_type": "stream",
          "name": "stdout",
          "text": [
            "Question Id 6\n",
            "Why did the width collapse in the percentage width child element in an absolutely positioned parent on Internet Explorer 7?\n"
          ]
        }
      ]
    },
    {
      "cell_type": "code",
      "metadata": {
        "colab": {
          "base_uri": "https://localhost:8080/"
        },
        "id": "6kL5-bu3FjiE",
        "outputId": "81587c7e-84b7-4ca2-c929-b8dd14beb6fd"
      },
      "source": [
        "print(\"Following question is similar:\\n\" + question['items'][0]['title'])"
      ],
      "execution_count": 34,
      "outputs": [
        {
          "output_type": "stream",
          "name": "stdout",
          "text": [
            "Following question is similar:\n",
            "Compressing / Decompressing Folders &amp; Files\n"
          ]
        }
      ]
    },
    {
      "cell_type": "markdown",
      "metadata": {
        "id": "Tg9erqKxFnQ4"
      },
      "source": [
        "##HNSW\n",
        "Hierarchical Navigable Small World (HNSW) graphs are among the top-performing indexes for vector similarity search[1]. HNSW is a hugely popular technology that time and time again produces state-of-the-art performance with super fast search speeds and fantastic recall.\n",
        "\n",
        "Yet despite being a popular and robust algorithm for approximate nearest neighbors (ANN) searches, understanding how it works is far from easy."
      ]
    },
    {
      "cell_type": "markdown",
      "metadata": {
        "id": "bQPEb1UkL4dX"
      },
      "source": [
        "###Create Class Index"
      ]
    },
    {
      "cell_type": "code",
      "metadata": {
        "id": "f0Im1pMKFqUF"
      },
      "source": [
        "class NMSLIBIndex():\n",
        "  def __init__(self, vectors, labels):\n",
        "    self.dimention = vectors.shape[1]\n",
        "    self.vectors = vectors.astype('float32')\n",
        "    self.labels = labels\n",
        "\n",
        "  def build(self):\n",
        "    self.index = nmslib.init(method='hnsw', space='cosinesimil')\n",
        "    self.index.addDataPointBatch(self.vectors)\n",
        "    self.index.createIndex({'post': 2})\n",
        "        \n",
        "  def results(self, vector, k=10):\n",
        "    indices = self.index.knnQuery(vector, k=k)\n",
        "    return [self.labels[i] for i in indices[0]]"
      ],
      "execution_count": 35,
      "outputs": []
    },
    {
      "cell_type": "markdown",
      "metadata": {
        "id": "2DQl-RQgL_k-"
      },
      "source": [
        "###Checking the time taken for the algorithm to return the data\n",
        "Here we are checking for the similar questions to question id 6"
      ]
    },
    {
      "cell_type": "code",
      "metadata": {
        "colab": {
          "base_uri": "https://localhost:8080/"
        },
        "id": "Ov9_7ScSFv0O",
        "outputId": "ca9463af-e65b-4b01-8e7c-1458c6d9c3dc"
      },
      "source": [
        "time_1 = time.time()\n",
        "\n",
        "hnsw_ind = NMSLIBIndex(data[\"vector\"], data[\"name\"])\n",
        "hnsw_ind.build()\n",
        "\n",
        "vector, name = data['vector'][6:7], data['name'][6]\n",
        "\n",
        "simlar_question_return_ids = '\\n '.join(hnsw_ind.results(vector))\n",
        "print(f\"Similar questions to question id - {name} are:\\n {simlar_question_return_ids}\")\n",
        "\n",
        "time_2 = time.time()\n",
        "\n",
        "total_time = time_2-time_1\n",
        "\n",
        "print(\"HNSW took {total_time} seconds.\".format(total_time=total_time))"
      ],
      "execution_count": 36,
      "outputs": [
        {
          "output_type": "stream",
          "name": "stdout",
          "text": [
            "Similar questions to question id - question_id:6 are:\n",
            " question_id:6\n",
            " question_id:9\n",
            " question_id:138\n",
            " question_id:90\n",
            " question_id:50\n",
            " question_id:22\n",
            " question_id:151\n",
            " question_id:24\n",
            " question_id:28\n",
            " question_id:375\n",
            "HNSW took 82.95296955108643 seconds.\n"
          ]
        }
      ]
    },
    {
      "cell_type": "markdown",
      "metadata": {
        "id": "VOlI39wgMqti"
      },
      "source": [
        "###Let us retrieve the question id for one of the questions from the above returned result along with the original question"
      ]
    },
    {
      "cell_type": "code",
      "metadata": {
        "colab": {
          "base_uri": "https://localhost:8080/"
        },
        "id": "DJILK5cQF6XC",
        "outputId": "c8e3158f-3686-4614-cc06-f7f026f4be71"
      },
      "source": [
        "question = site_value.fetch('questions/{ids}', ids=[90], filter='withbody')\n",
        "question"
      ],
      "execution_count": 37,
      "outputs": [
        {
          "output_type": "execute_result",
          "data": {
            "text/plain": [
              "{'backoff': 0,\n",
              " 'has_more': False,\n",
              " 'page': 1,\n",
              " 'quota_max': 300,\n",
              " 'quota_remaining': 290,\n",
              " 'total': 0,\n",
              " 'items': [{'tags': ['svn', 'tortoisesvn', 'branch', 'branching-and-merging'],\n",
              "   'owner': {'reputation': 46687,\n",
              "    'user_id': 58,\n",
              "    'user_type': 'registered',\n",
              "    'accept_rate': 91,\n",
              "    'profile_image': 'https://www.gravatar.com/avatar/298e0497aa6b76a573f17e6a2bb22dec?s=256&d=identicon&r=PG',\n",
              "    'display_name': 'cmcculloh',\n",
              "    'link': 'https://stackoverflow.com/users/58/cmcculloh'},\n",
              "   'is_answered': True,\n",
              "   'view_count': 56308,\n",
              "   'closed_date': 1356493549,\n",
              "   'accepted_answer_id': 1466832,\n",
              "   'answer_count': 3,\n",
              "   'score': 164,\n",
              "   'last_activity_date': 1503594083,\n",
              "   'creation_date': 1217601684,\n",
              "   'last_edit_date': 1503594083,\n",
              "   'question_id': 90,\n",
              "   'link': 'https://stackoverflow.com/questions/90/how-do-you-branch-and-merge-with-tortoisesvn',\n",
              "   'closed_reason': 'not a real question',\n",
              "   'title': 'How do you branch and merge with TortoiseSVN?',\n",
              "   'body': '<p>How do you <a href=\"http://svnbook.red-bean.com/en/1.8/svn.branchmerge.html\" rel=\"noreferrer\">branch and merge</a> with Apache Subversion using the TortoiseSVN client? </p>\\n'}]}"
            ]
          },
          "metadata": {},
          "execution_count": 37
        }
      ]
    },
    {
      "cell_type": "markdown",
      "metadata": {
        "id": "oCh55eBcMysD"
      },
      "source": [
        "Question id - 6"
      ]
    },
    {
      "cell_type": "code",
      "metadata": {
        "colab": {
          "base_uri": "https://localhost:8080/"
        },
        "id": "E3r10L6pM0lm",
        "outputId": "bd906076-3b9a-462f-8ed5-1186a5a6a3b0"
      },
      "source": [
        "asked_question = site_value.fetch('questions/{ids}', ids=[6], filter='withbody')\n",
        "print(\"Question Id 6\\n\" + asked_question['items'][0]['title'])"
      ],
      "execution_count": 38,
      "outputs": [
        {
          "output_type": "stream",
          "name": "stdout",
          "text": [
            "Question Id 6\n",
            "Why did the width collapse in the percentage width child element in an absolutely positioned parent on Internet Explorer 7?\n"
          ]
        }
      ]
    },
    {
      "cell_type": "markdown",
      "metadata": {
        "id": "CQ3ZKwdwM4LW"
      },
      "source": [
        "Similar Question"
      ]
    },
    {
      "cell_type": "code",
      "metadata": {
        "colab": {
          "base_uri": "https://localhost:8080/"
        },
        "id": "TQYxeID3GDbb",
        "outputId": "6c5f9dec-d43b-44a2-f68f-0dbc0830c083"
      },
      "source": [
        "print(\"Following question is similar:\\n\" + question['items'][0]['title'])"
      ],
      "execution_count": 39,
      "outputs": [
        {
          "output_type": "stream",
          "name": "stdout",
          "text": [
            "Following question is similar:\n",
            "How do you branch and merge with TortoiseSVN?\n"
          ]
        }
      ]
    }
  ]
}