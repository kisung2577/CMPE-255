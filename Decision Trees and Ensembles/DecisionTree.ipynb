{
  "nbformat": 4,
  "nbformat_minor": 0,
  "metadata": {
    "colab": {
      "provenance": [],
      "include_colab_link": true
    },
    "kernelspec": {
      "name": "python3",
      "display_name": "Python 3"
    },
    "language_info": {
      "name": "python"
    }
  },
  "cells": [
    {
      "cell_type": "markdown",
      "metadata": {
        "id": "view-in-github",
        "colab_type": "text"
      },
      "source": [
        "<a href=\"https://colab.research.google.com/github/kisung2577/CMPE-255/blob/main/DecisionTree.ipynb\" target=\"_parent\"><img src=\"https://colab.research.google.com/assets/colab-badge.svg\" alt=\"Open In Colab\"/></a>"
      ]
    },
    {
      "cell_type": "markdown",
      "source": [
        "#Decision Tree from Scratch\n",
        "A decision tree is a flowchart-like structure in which each internal node represents a \"test\" on an attribute (e.g. whether a coin flip comes up heads or tails), each branch represents the outcome of the test, and each leaf node represents a class label (decision taken after computing all attributes). The paths from root to leaf represent classification rules.\n",
        "\n",
        "In decision analysis, a decision tree and the closely related influence diagram are used as a visual and analytical decision support tool, where the expected values (or expected utility) of competing alternatives are calculated.\n",
        "\n",
        "A decision tree consists of three types of nodes:\n",
        "\n",
        "Decision nodes – typically represented by squares\n",
        "Chance nodes – typically represented by circles\n",
        "End nodes – typically represented by triangles\n"
      ],
      "metadata": {
        "id": "2idlCLWGwdNv"
      }
    },
    {
      "cell_type": "markdown",
      "source": [
        "##Necessary Imports"
      ],
      "metadata": {
        "id": "cAaUT4MLzG56"
      }
    },
    {
      "cell_type": "code",
      "source": [
        "import pandas as pd\n",
        "import numpy as np\n"
      ],
      "metadata": {
        "id": "ZZmOJU01xbpF"
      },
      "execution_count": null,
      "outputs": []
    },
    {
      "cell_type": "markdown",
      "source": [
        "##Mount Google drive to load data"
      ],
      "metadata": {
        "id": "l4aRXpdDzJjz"
      }
    },
    {
      "cell_type": "code",
      "execution_count": null,
      "metadata": {
        "colab": {
          "base_uri": "https://localhost:8080/"
        },
        "id": "IB90QEX0uDJ6",
        "outputId": "54225efe-f10b-4cc7-d0a7-8557ff891c3e"
      },
      "outputs": [
        {
          "output_type": "stream",
          "name": "stdout",
          "text": [
            "Drive already mounted at /content/gdrive; to attempt to forcibly remount, call drive.mount(\"/content/gdrive\", force_remount=True).\n"
          ]
        }
      ],
      "source": [
        "from google.colab import drive\n",
        "drive.mount('/content/gdrive')"
      ]
    },
    {
      "cell_type": "markdown",
      "source": [
        "##Load data of bank note authentication http://archive.ics.uci.edu/ml/datasets/banknote+authentication"
      ],
      "metadata": {
        "id": "g5OgJTOPzNV7"
      }
    },
    {
      "cell_type": "code",
      "source": [
        "data = pd.read_csv('/content/gdrive/MyDrive/Colab Notebooks/255DataMining/dataset/data_banknote_authentication.txt',\n",
        "                   names = ['variance','skewness', 'kurtosis', 'entropy', 'class'])\n",
        "data"
      ],
      "metadata": {
        "colab": {
          "base_uri": "https://localhost:8080/",
          "height": 424
        },
        "id": "nW0xaRVRxLfc",
        "outputId": "b855f958-2350-4961-9aa0-71fae533ffa4"
      },
      "execution_count": null,
      "outputs": [
        {
          "output_type": "execute_result",
          "data": {
            "text/html": [
              "<div>\n",
              "<style scoped>\n",
              "    .dataframe tbody tr th:only-of-type {\n",
              "        vertical-align: middle;\n",
              "    }\n",
              "\n",
              "    .dataframe tbody tr th {\n",
              "        vertical-align: top;\n",
              "    }\n",
              "\n",
              "    .dataframe thead th {\n",
              "        text-align: right;\n",
              "    }\n",
              "</style>\n",
              "<table border=\"1\" class=\"dataframe\">\n",
              "  <thead>\n",
              "    <tr style=\"text-align: right;\">\n",
              "      <th></th>\n",
              "      <th>variance</th>\n",
              "      <th>skewness</th>\n",
              "      <th>kurtosis</th>\n",
              "      <th>entropy</th>\n",
              "      <th>class</th>\n",
              "    </tr>\n",
              "  </thead>\n",
              "  <tbody>\n",
              "    <tr>\n",
              "      <th>0</th>\n",
              "      <td>3.62160</td>\n",
              "      <td>8.66610</td>\n",
              "      <td>-2.8073</td>\n",
              "      <td>-0.44699</td>\n",
              "      <td>0</td>\n",
              "    </tr>\n",
              "    <tr>\n",
              "      <th>1</th>\n",
              "      <td>4.54590</td>\n",
              "      <td>8.16740</td>\n",
              "      <td>-2.4586</td>\n",
              "      <td>-1.46210</td>\n",
              "      <td>0</td>\n",
              "    </tr>\n",
              "    <tr>\n",
              "      <th>2</th>\n",
              "      <td>3.86600</td>\n",
              "      <td>-2.63830</td>\n",
              "      <td>1.9242</td>\n",
              "      <td>0.10645</td>\n",
              "      <td>0</td>\n",
              "    </tr>\n",
              "    <tr>\n",
              "      <th>3</th>\n",
              "      <td>3.45660</td>\n",
              "      <td>9.52280</td>\n",
              "      <td>-4.0112</td>\n",
              "      <td>-3.59440</td>\n",
              "      <td>0</td>\n",
              "    </tr>\n",
              "    <tr>\n",
              "      <th>4</th>\n",
              "      <td>0.32924</td>\n",
              "      <td>-4.45520</td>\n",
              "      <td>4.5718</td>\n",
              "      <td>-0.98880</td>\n",
              "      <td>0</td>\n",
              "    </tr>\n",
              "    <tr>\n",
              "      <th>...</th>\n",
              "      <td>...</td>\n",
              "      <td>...</td>\n",
              "      <td>...</td>\n",
              "      <td>...</td>\n",
              "      <td>...</td>\n",
              "    </tr>\n",
              "    <tr>\n",
              "      <th>1367</th>\n",
              "      <td>0.40614</td>\n",
              "      <td>1.34920</td>\n",
              "      <td>-1.4501</td>\n",
              "      <td>-0.55949</td>\n",
              "      <td>1</td>\n",
              "    </tr>\n",
              "    <tr>\n",
              "      <th>1368</th>\n",
              "      <td>-1.38870</td>\n",
              "      <td>-4.87730</td>\n",
              "      <td>6.4774</td>\n",
              "      <td>0.34179</td>\n",
              "      <td>1</td>\n",
              "    </tr>\n",
              "    <tr>\n",
              "      <th>1369</th>\n",
              "      <td>-3.75030</td>\n",
              "      <td>-13.45860</td>\n",
              "      <td>17.5932</td>\n",
              "      <td>-2.77710</td>\n",
              "      <td>1</td>\n",
              "    </tr>\n",
              "    <tr>\n",
              "      <th>1370</th>\n",
              "      <td>-3.56370</td>\n",
              "      <td>-8.38270</td>\n",
              "      <td>12.3930</td>\n",
              "      <td>-1.28230</td>\n",
              "      <td>1</td>\n",
              "    </tr>\n",
              "    <tr>\n",
              "      <th>1371</th>\n",
              "      <td>-2.54190</td>\n",
              "      <td>-0.65804</td>\n",
              "      <td>2.6842</td>\n",
              "      <td>1.19520</td>\n",
              "      <td>1</td>\n",
              "    </tr>\n",
              "  </tbody>\n",
              "</table>\n",
              "<p>1372 rows × 5 columns</p>\n",
              "</div>"
            ],
            "text/plain": [
              "      variance  skewness  kurtosis  entropy  class\n",
              "0      3.62160   8.66610   -2.8073 -0.44699      0\n",
              "1      4.54590   8.16740   -2.4586 -1.46210      0\n",
              "2      3.86600  -2.63830    1.9242  0.10645      0\n",
              "3      3.45660   9.52280   -4.0112 -3.59440      0\n",
              "4      0.32924  -4.45520    4.5718 -0.98880      0\n",
              "...        ...       ...       ...      ...    ...\n",
              "1367   0.40614   1.34920   -1.4501 -0.55949      1\n",
              "1368  -1.38870  -4.87730    6.4774  0.34179      1\n",
              "1369  -3.75030 -13.45860   17.5932 -2.77710      1\n",
              "1370  -3.56370  -8.38270   12.3930 -1.28230      1\n",
              "1371  -2.54190  -0.65804    2.6842  1.19520      1\n",
              "\n",
              "[1372 rows x 5 columns]"
            ]
          },
          "metadata": {},
          "execution_count": 6
        }
      ]
    },
    {
      "cell_type": "code",
      "source": [
        "X = data.drop('class', axis=1).to_numpy()\n",
        "y = data['class'].to_numpy()"
      ],
      "metadata": {
        "id": "wEGqQISoxxjb"
      },
      "execution_count": null,
      "outputs": []
    },
    {
      "cell_type": "markdown",
      "source": [
        "##Gini Impurity\n",
        "The Gini impurity measure is one of the methods used in decision tree algorithms to decide the optimal split from a root node, and subsequent splits. \n",
        "Gini Impurity tells us what is the probability of misclassifying an observation. Note that the lower the Gini the better the split."
      ],
      "metadata": {
        "id": "g_NqxCM9ze4e"
      }
    },
    {
      "cell_type": "markdown",
      "source": [
        "Function that returns the gini impurity in a given list of classes"
      ],
      "metadata": {
        "id": "mzzaAgST0ZF1"
      }
    },
    {
      "cell_type": "code",
      "source": [
        "def gini_impurity(y):\n",
        "    y = np.asarray(y)\n",
        "    m = y.shape[0]\n",
        "    classes = np.unique(y)\n",
        "    g_i = np.asarray([(np.sum(y == c)/m) for c in classes])\n",
        "    G = 1 - np.sum(g_i**2)\n",
        "    return G"
      ],
      "metadata": {
        "id": "x4p2weoUx0D3"
      },
      "execution_count": null,
      "outputs": []
    },
    {
      "cell_type": "markdown",
      "source": [
        "Function that returns the weighted gini impurity of a node"
      ],
      "metadata": {
        "id": "ecGRghGx0asb"
      }
    },
    {
      "cell_type": "code",
      "source": [
        "def get_gini(G_left, G_right):\n",
        "    m_l = G_left.size\n",
        "    m_r = G_right.size\n",
        "    G = (m_l/(m_l+m_r))*G_left + (m_r/(m_l+m_r))*G_right\n",
        "    return G"
      ],
      "metadata": {
        "id": "K3NHJwJMx2Zk"
      },
      "execution_count": null,
      "outputs": []
    },
    {
      "cell_type": "markdown",
      "source": [
        "Function to split a node X, into two nodes, based on a feature and a threshold for that feature"
      ],
      "metadata": {
        "id": "Kj7oCnC30c3-"
      }
    },
    {
      "cell_type": "code",
      "source": [
        "def split_node(X, y, feature, threshold):\n",
        "    X_left, y_left, X_right, y_right = [], [], [], []\n",
        "    for (row,y_i) in zip(X,y):\n",
        "        if row[feature] < threshold:\n",
        "            X_left.append(row)\n",
        "            y_left.append(y_i)\n",
        "        else:\n",
        "            X_right.append(row)\n",
        "            y_right.append(y_i)\n",
        "    return X_left, y_left, X_right, y_right"
      ],
      "metadata": {
        "id": "qwCZgAoNx41C"
      },
      "execution_count": null,
      "outputs": []
    },
    {
      "cell_type": "markdown",
      "source": [
        "Function to select the best threshold and feature for a given node given by X"
      ],
      "metadata": {
        "id": "c279mVqw0wCp"
      }
    },
    {
      "cell_type": "code",
      "source": [
        "def best_split(X, y):\n",
        "    X = np.asarray(X)\n",
        "    y = np.asarray(y)\n",
        "    best_feature, best_threshold, best_G, best_children = 0, 0, 2, 0\n",
        "    for feature in range(X.shape[1]):\n",
        "        for row in X:\n",
        "            X_left, y_left, X_right, y_right = split_node(X, y, feature, row[feature])\n",
        "            G_left  = gini_impurity(y_left)\n",
        "            G_right = gini_impurity(y_right)\n",
        "            G = get_gini(G_left, G_right)\n",
        "            if G < best_G:\n",
        "                Node_left = [X_left, y_left]\n",
        "                Node_right = [X_right, y_right]\n",
        "                best_feature, best_threshold, best_G, best_children = \\\n",
        "                feature, row[feature], G, [Node_left, Node_right]\n",
        "    return dict({'feature':best_feature, 'threshold':best_threshold, 'children':best_children})"
      ],
      "metadata": {
        "id": "iA3t-4O4x7HI"
      },
      "execution_count": null,
      "outputs": []
    },
    {
      "cell_type": "markdown",
      "source": [
        "##Tree structure\n",
        "Below tree will consist of nodes.\n",
        "Each node will be of the form [Node_left, Node_right] accessible through the 'children' key of the dictionary returned by best_split.\n",
        "Both Node_left and Node_right will be of the form [X, y]"
      ],
      "metadata": {
        "id": "Cpp5wVxN0z60"
      }
    },
    {
      "cell_type": "markdown",
      "source": [
        "Dummy data to test"
      ],
      "metadata": {
        "id": "ICA5FvEr0_Ap"
      }
    },
    {
      "cell_type": "code",
      "source": [
        "Xd = np.asarray([[2.771244718,1.784783929],\n",
        "                [1.728571309,1.169761413],\n",
        "                [3.678319846,2.81281357],\n",
        "                [3.961043357,2.61995032],\n",
        "                [2.999208922,2.209014212],\n",
        "                [7.497545867,3.162953546],\n",
        "                [9.00220326,3.339047188],\n",
        "                [7.444542326,0.476683375],\n",
        "                [10.12493903,3.234550982],\n",
        "                [6.642287351,3.319983761]])\n",
        "yd = np.asarray([0,0,0,0,0,1,1,1,1,1])"
      ],
      "metadata": {
        "id": "A9jQ1lW1x92E"
      },
      "execution_count": null,
      "outputs": []
    },
    {
      "cell_type": "markdown",
      "source": [
        "Function that converts a node (node_left or node_right) to a leaf"
      ],
      "metadata": {
        "id": "-RfPiOcD1Cwh"
      }
    },
    {
      "cell_type": "code",
      "source": [
        "def leaf(Node):\n",
        "    X, y = Node\n",
        "    return np.argmax(np.bincount(y))"
      ],
      "metadata": {
        "id": "CWHLa3hcyC6M"
      },
      "execution_count": null,
      "outputs": []
    },
    {
      "cell_type": "markdown",
      "source": [
        "Function to split nodes recursively"
      ],
      "metadata": {
        "id": "HLmv3VcQ1EG_"
      }
    },
    {
      "cell_type": "code",
      "source": [
        "def tree(Node, max_depth, min_size, depth): \n",
        "    \n",
        "    left, right = Node['children']\n",
        "    # No need for children anymore :)\n",
        "    del(Node['children'])\n",
        "    \n",
        "    # BASE CASES:\n",
        "    ## If no children:\n",
        "    if not left or not right:\n",
        "        Node['left'] = Node['right'] = leaf(left + right)\n",
        "        return\n",
        "    ## Checking whether max depth has been reached:\n",
        "    if depth >= max_depth:\n",
        "        Node['left'], Node['right'] = leaf(left), leaf(right)\n",
        "        return\n",
        "    \n",
        "    # RECURSION:\n",
        "    ## Left child node: left[1] yields y_left, which a list.\n",
        "    if len(left[0]) <= min_size:\n",
        "        Node['left'] = leaf(left)\n",
        "    else:\n",
        "        Node['left'] = best_split(left[0], left[1])\n",
        "        tree(Node['left'], max_depth, min_size, depth+1)\n",
        "        \n",
        "    ## Process right child\n",
        "    if len(right[1]) <= min_size:\n",
        "        Node['right'] = leaf(right)\n",
        "    else:\n",
        "        Node['right'] = best_split(right[0], right[1])\n",
        "        tree(Node['right'], max_depth, min_size, depth+1)"
      ],
      "metadata": {
        "id": "IAS28141yFiN"
      },
      "execution_count": null,
      "outputs": []
    },
    {
      "cell_type": "markdown",
      "source": [
        "Function to build the decision tree"
      ],
      "metadata": {
        "id": "GzrxAesy1KvV"
      }
    },
    {
      "cell_type": "code",
      "source": [
        "def build_tree(X, y, max_depth, min_size):\n",
        "    root = best_split(X, y)\n",
        "    tree(root, max_depth, min_size, 1)\n",
        "    return root"
      ],
      "metadata": {
        "id": "ZOeCr5rjyI_-"
      },
      "execution_count": null,
      "outputs": []
    },
    {
      "cell_type": "markdown",
      "source": [
        "Function that prints the tree"
      ],
      "metadata": {
        "id": "fLpzu0f01OKh"
      }
    },
    {
      "cell_type": "code",
      "source": [
        "def print_tree(d, indent=0):\n",
        "    for key, value in d.items():\n",
        "        print('\\t' * indent + str(key))\n",
        "        if isinstance(value, dict):\n",
        "            print_tree(value, indent+1)\n",
        "        else:\n",
        "            print('\\t' * (indent+1) + str(value))"
      ],
      "metadata": {
        "id": "pvjkqArcyRKV"
      },
      "execution_count": null,
      "outputs": []
    },
    {
      "cell_type": "markdown",
      "source": [
        "Function to make a decision with the tree through tree traversal"
      ],
      "metadata": {
        "id": "fa8tbniA1R1-"
      }
    },
    {
      "cell_type": "code",
      "source": [
        "def predict(Node, row):\n",
        "    # Recursively traverse the tree\n",
        "    if row[Node['feature']] < Node['threshold']:\n",
        "        if isinstance(Node['left'], dict):\n",
        "            # Go left\n",
        "            return predict(Node['left'], row)\n",
        "        else:\n",
        "            # Base case reached, return the leaf\n",
        "            return Node['left']\n",
        "    else:\n",
        "        if isinstance(Node['right'], dict):\n",
        "            # Go right\n",
        "            return predict(Node['right'], row)\n",
        "        else:\n",
        "            # Base case reached, return the leaf\n",
        "            return Node['right']"
      ],
      "metadata": {
        "id": "C7ENtbG5yThn"
      },
      "execution_count": null,
      "outputs": []
    },
    {
      "cell_type": "markdown",
      "source": [
        "Classification and Regression Tree Algorithm (CART)"
      ],
      "metadata": {
        "id": "B_p9gFqb1Tjv"
      }
    },
    {
      "cell_type": "code",
      "source": [
        "def cart(X_train, y_train, X_test, y_test, max_depth, min_size):\n",
        "    tree = build_tree(X_train, y_train, max_depth, min_size)\n",
        "    predictions = []\n",
        "    for row in X_test:\n",
        "        prediction = predict(tree, row)\n",
        "        predictions.append(prediction)\n",
        "    return(predictions)"
      ],
      "metadata": {
        "id": "Wy7qbBulyWZX"
      },
      "execution_count": null,
      "outputs": []
    },
    {
      "cell_type": "markdown",
      "source": [],
      "metadata": {
        "id": "8zIlbDW31WBK"
      }
    },
    {
      "cell_type": "code",
      "source": [
        "print_tree(build_tree(Xd, yd, 2, 1))"
      ],
      "metadata": {
        "colab": {
          "base_uri": "https://localhost:8080/"
        },
        "id": "62NiOUWhyZcw",
        "outputId": "5f2f9ebc-abeb-45eb-d2e7-aa0418a79a19"
      },
      "execution_count": null,
      "outputs": [
        {
          "output_type": "stream",
          "name": "stdout",
          "text": [
            "feature\n",
            "\t0\n",
            "threshold\n",
            "\t6.642287351\n",
            "left\n",
            "\tfeature\n",
            "\t\t0\n",
            "\tthreshold\n",
            "\t\t2.771244718\n",
            "\tleft\n",
            "\t\t0\n",
            "\tright\n",
            "\t\t0\n",
            "right\n",
            "\tfeature\n",
            "\t\t0\n",
            "\tthreshold\n",
            "\t\t7.497545867\n",
            "\tleft\n",
            "\t\t1\n",
            "\tright\n",
            "\t\t1\n"
          ]
        }
      ]
    },
    {
      "cell_type": "code",
      "source": [
        "predictions = cart(Xd, yd, Xd, yd, 1, 1)\n",
        "print(np.sum(predictions==yd)/yd.shape[0])"
      ],
      "metadata": {
        "colab": {
          "base_uri": "https://localhost:8080/"
        },
        "id": "bkY9q2Z4yaiH",
        "outputId": "4f17b62f-393a-429d-8e74-83c0e6c3e024"
      },
      "execution_count": null,
      "outputs": [
        {
          "output_type": "stream",
          "name": "stdout",
          "text": [
            "1.0\n"
          ]
        }
      ]
    },
    {
      "cell_type": "markdown",
      "source": [
        "Testing on real data"
      ],
      "metadata": {
        "id": "_RWfpafK1ZLl"
      }
    },
    {
      "cell_type": "code",
      "source": [
        "from sklearn.model_selection import train_test_split\n",
        "from sklearn.metrics import confusion_matrix, f1_score\n",
        "\n",
        "X_train, X_test, y_train, y_test = train_test_split(X, y)"
      ],
      "metadata": {
        "id": "_PiOvwZoyfu_"
      },
      "execution_count": null,
      "outputs": []
    },
    {
      "cell_type": "code",
      "source": [
        "y_pred = cart(X_train, y_train, X_test, y_test, 5, 10)\n",
        "print(confusion_matrix(y_test, y_pred))\n",
        "print(f1_score(y_test, y_pred))"
      ],
      "metadata": {
        "colab": {
          "base_uri": "https://localhost:8080/"
        },
        "id": "lflLtF0DyiMw",
        "outputId": "b56277c9-4bd5-4f8e-9f98-04bc3fd6c158"
      },
      "execution_count": null,
      "outputs": [
        {
          "output_type": "stream",
          "name": "stdout",
          "text": [
            "[[134  54]\n",
            " [  5 150]]\n",
            "0.8356545961002786\n"
          ]
        }
      ]
    }
  ]
}
